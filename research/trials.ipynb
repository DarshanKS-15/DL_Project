{
 "cells": [
  {
   "cell_type": "markdown",
   "id": "2013bfac",
   "metadata": {},
   "source": [
    "Configbox\n"
   ]
  },
  {
   "cell_type": "code",
   "execution_count": 1,
   "id": "57022b37",
   "metadata": {},
   "outputs": [
    {
     "ename": "AttributeError",
     "evalue": "module 'yaml' has no attribute 'safeload'",
     "output_type": "error",
     "traceback": [
      "\u001b[31m---------------------------------------------------------------------------\u001b[39m",
      "\u001b[31mAttributeError\u001b[39m                            Traceback (most recent call last)",
      "\u001b[36mCell\u001b[39m\u001b[36m \u001b[39m\u001b[32mIn[1]\u001b[39m\u001b[32m, line 5\u001b[39m\n\u001b[32m      3\u001b[39m \u001b[38;5;66;03m# open the yaml  file and load its contents\u001b[39;00m\n\u001b[32m      4\u001b[39m \u001b[38;5;28;01mwith\u001b[39;00m \u001b[38;5;28mopen\u001b[39m(yaml_file_path,\u001b[33m'\u001b[39m\u001b[33mr\u001b[39m\u001b[33m'\u001b[39m) \u001b[38;5;28;01mas\u001b[39;00m yaml_file:\n\u001b[32m----> \u001b[39m\u001b[32m5\u001b[39m     data=\u001b[43myaml\u001b[49m\u001b[43m.\u001b[49m\u001b[43msafeload\u001b[49m(yaml_file)\n\u001b[32m      7\u001b[39m \u001b[38;5;28mprint\u001b[39m(data)\n\u001b[32m      8\u001b[39m \u001b[38;5;28mprint\u001b[39m(\u001b[38;5;28mtype\u001b[39m(data))\n",
      "\u001b[31mAttributeError\u001b[39m: module 'yaml' has no attribute 'safeload'"
     ]
    }
   ],
   "source": [
    "import yaml\n",
    "yaml_file_path=\"test.yaml\"\n",
    "# open the yaml  file and load its contents\n",
    "with open(yaml_file_path,'r') as yaml_file:\n",
    "    data=yaml.safeload(yaml_file)\n",
    "\n",
    "print(data)\n",
    "print(type(data))"
   ]
  },
  {
   "cell_type": "code",
   "execution_count": null,
   "id": "2eec1bd5",
   "metadata": {},
   "outputs": [],
   "source": [
    "data['name']"
   ]
  },
  {
   "cell_type": "code",
   "execution_count": null,
   "id": "2fa049b5",
   "metadata": {},
   "outputs": [],
   "source": [
    "data.name"
   ]
  },
  {
   "cell_type": "code",
   "execution_count": null,
   "id": "c4242cf4",
   "metadata": {},
   "outputs": [],
   "source": [
    "from box import ConfigBox\n",
    "config_data=ConfigBox(data)\n",
    "config_data.name"
   ]
  },
  {
   "cell_type": "code",
   "execution_count": null,
   "id": "2dba00f1",
   "metadata": {},
   "outputs": [],
   "source": [
    "type(config_data.name)"
   ]
  },
  {
   "cell_type": "markdown",
   "id": "db5370b9",
   "metadata": {},
   "source": [
    "Ensure annotation"
   ]
  },
  {
   "cell_type": "code",
   "execution_count": 8,
   "id": "da619d6f",
   "metadata": {},
   "outputs": [],
   "source": [
    "def get_product(x:int,y:int):\n",
    "    return x*y"
   ]
  },
  {
   "cell_type": "code",
   "execution_count": 9,
   "id": "f308d3e8",
   "metadata": {},
   "outputs": [
    {
     "data": {
      "text/plain": [
       "8"
      ]
     },
     "execution_count": 9,
     "metadata": {},
     "output_type": "execute_result"
    }
   ],
   "source": [
    "get_product(x=2,y=4)"
   ]
  },
  {
   "cell_type": "code",
   "execution_count": 10,
   "id": "845be3d8",
   "metadata": {},
   "outputs": [
    {
     "data": {
      "text/plain": [
       "'44'"
      ]
     },
     "execution_count": 10,
     "metadata": {},
     "output_type": "execute_result"
    }
   ],
   "source": [
    "get_product(x=2,y=\"4\") #application working even given string instead of int"
   ]
  },
  {
   "cell_type": "code",
   "execution_count": 11,
   "id": "cbf873e4",
   "metadata": {},
   "outputs": [],
   "source": [
    "from ensure import ensure_annotations\n",
    "@ensure_annotations\n",
    "def get_product(x:int,y:int):\n",
    "    return x*y"
   ]
  },
  {
   "cell_type": "code",
   "execution_count": 12,
   "id": "39e29d60",
   "metadata": {},
   "outputs": [
    {
     "ename": "EnsureError",
     "evalue": "Argument y of type <class 'str'> to <function get_product at 0x000002B1CA9434C0> does not match annotation type <class 'int'>",
     "output_type": "error",
     "traceback": [
      "\u001b[31m---------------------------------------------------------------------------\u001b[39m",
      "\u001b[31mEnsureError\u001b[39m                               Traceback (most recent call last)",
      "\u001b[36mCell\u001b[39m\u001b[36m \u001b[39m\u001b[32mIn[12]\u001b[39m\u001b[32m, line 1\u001b[39m\n\u001b[32m----> \u001b[39m\u001b[32m1\u001b[39m \u001b[43mget_product\u001b[49m\u001b[43m(\u001b[49m\u001b[43mx\u001b[49m\u001b[43m=\u001b[49m\u001b[32;43m2\u001b[39;49m\u001b[43m,\u001b[49m\u001b[43my\u001b[49m\u001b[43m=\u001b[49m\u001b[33;43m\"\u001b[39;49m\u001b[33;43m4\u001b[39;49m\u001b[33;43m\"\u001b[39;49m\u001b[43m)\u001b[49m\n",
      "\u001b[36mFile \u001b[39m\u001b[32mc:\\Users\\User\\Music\\DL_Project\\chest\\Lib\\site-packages\\ensure\\main.py:803\u001b[39m, in \u001b[36mWrappedFunction.__call__\u001b[39m\u001b[34m(self, *args, **kwargs)\u001b[39m\n\u001b[32m    798\u001b[39m     \u001b[38;5;28;01mif\u001b[39;00m \u001b[38;5;129;01mnot\u001b[39;00m \u001b[38;5;28misinstance\u001b[39m(value, templ):\n\u001b[32m    799\u001b[39m         msg = (\n\u001b[32m    800\u001b[39m             \u001b[33m\"\u001b[39m\u001b[33mArgument \u001b[39m\u001b[38;5;132;01m{arg}\u001b[39;00m\u001b[33m of type \u001b[39m\u001b[38;5;132;01m{valt}\u001b[39;00m\u001b[33m to \u001b[39m\u001b[38;5;132;01m{f}\u001b[39;00m\u001b[33m \u001b[39m\u001b[33m\"\u001b[39m\n\u001b[32m    801\u001b[39m             \u001b[33m\"\u001b[39m\u001b[33mdoes not match annotation type \u001b[39m\u001b[38;5;132;01m{t}\u001b[39;00m\u001b[33m\"\u001b[39m\n\u001b[32m    802\u001b[39m         )\n\u001b[32m--> \u001b[39m\u001b[32m803\u001b[39m         \u001b[38;5;28;01mraise\u001b[39;00m EnsureError(msg.format(\n\u001b[32m    804\u001b[39m             arg=arg, f=\u001b[38;5;28mself\u001b[39m.f, t=templ, valt=\u001b[38;5;28mtype\u001b[39m(value)\n\u001b[32m    805\u001b[39m         ))\n\u001b[32m    807\u001b[39m \u001b[38;5;28;01mreturn\u001b[39;00m \u001b[38;5;28mself\u001b[39m.f(*args, **kwargs)\n",
      "\u001b[31mEnsureError\u001b[39m: Argument y of type <class 'str'> to <function get_product at 0x000002B1CA9434C0> does not match annotation type <class 'int'>"
     ]
    }
   ],
   "source": [
    "get_product(x=2,y=\"4\")"
   ]
  },
  {
   "cell_type": "code",
   "execution_count": null,
   "id": "76d83057",
   "metadata": {},
   "outputs": [],
   "source": []
  }
 ],
 "metadata": {
  "kernelspec": {
   "display_name": "chest",
   "language": "python",
   "name": "python3"
  },
  "language_info": {
   "codemirror_mode": {
    "name": "ipython",
    "version": 3
   },
   "file_extension": ".py",
   "mimetype": "text/x-python",
   "name": "python",
   "nbconvert_exporter": "python",
   "pygments_lexer": "ipython3",
   "version": "3.11.9"
  }
 },
 "nbformat": 4,
 "nbformat_minor": 5
}
